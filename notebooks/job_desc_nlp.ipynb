{
 "cells": [
  {
   "cell_type": "code",
   "execution_count": 1,
   "metadata": {},
   "outputs": [],
   "source": [
    "import os.path\n",
    "import time\n",
    "import pandas as pd\n",
    "from bs4 import BeautifulSoup\n",
    "\n",
    "from selenium import webdriver\n",
    "from selenium.webdriver.chrome.service import Service\n",
    "from selenium.webdriver.common.by import By\n",
    "from selenium.webdriver.support.ui import WebDriverWait\n",
    "from selenium.webdriver.support import expected_conditions as EC\n",
    "from selenium.webdriver.common.keys import Keys"
   ]
  },
  {
   "cell_type": "code",
   "execution_count": 2,
   "metadata": {},
   "outputs": [],
   "source": [
    "chrome_options = webdriver.ChromeOptions()\n",
    "# chrome_options.add_argument(\"--headless\") # Ensure GUI is off\n",
    "chrome_options.add_argument(\"--no-sandbox\")\n",
    "\n",
    "# Set path to chromedriver as per your configuration\n",
    "homedir = os.path.expanduser(\"~\")\n",
    "webdriver_service = Service(f\"{homedir}/chromedriver/stable/chromedriver\")\n",
    "\n",
    "# Choose Chrome Browser\n",
    "driver = webdriver.Chrome(service=webdriver_service, options=chrome_options)"
   ]
  },
  {
   "cell_type": "code",
   "execution_count": 3,
   "metadata": {},
   "outputs": [],
   "source": [
    "driver.maximize_window() \n",
    "# driver.minimize_window() \n",
    "# driver.maximize_window() \n",
    "# driver.switch_to.window(driver.current_window_handle)\n",
    "# driver.implicitly_wait(10)"
   ]
  },
  {
   "cell_type": "code",
   "execution_count": 4,
   "metadata": {},
   "outputs": [],
   "source": [
    "# Enter to the site\n",
    "driver.get(\"https://www.linkedin.com/login\");\n",
    "time.sleep(2)"
   ]
  },
  {
   "cell_type": "code",
   "execution_count": 5,
   "metadata": {},
   "outputs": [],
   "source": [
    "# Accept cookies\n",
    "driver.find_element(By.XPATH, \"/html/body/div/main/div[1]/div/section/div/div[2]/button[1]\").click()\n",
    "time.sleep(1)"
   ]
  },
  {
   "cell_type": "code",
   "execution_count": 6,
   "metadata": {},
   "outputs": [],
   "source": [
    "# Enter Username\n",
    "driver.find_element(By.XPATH, \"/html/body/div/main/div[2]/div[1]/form/div[1]/input\").send_keys('jamiewelch1011@gmail.com')\n",
    "\n",
    "# Enter Password\n",
    "driver.find_element(By.XPATH, \"/html/body/div/main/div[2]/div[1]/form/div[2]/input\").send_keys('Jamwels1994')\n",
    "time.sleep(1)"
   ]
  },
  {
   "cell_type": "code",
   "execution_count": 7,
   "metadata": {},
   "outputs": [],
   "source": [
    "# Login\n",
    "driver.find_element(By.XPATH, \"/html/body/div/main/div[2]/div[1]/form/div[3]/button\").click()\n",
    "driver.implicitly_wait(30)"
   ]
  },
  {
   "cell_type": "code",
   "execution_count": 8,
   "metadata": {},
   "outputs": [],
   "source": [
    "# Navigate to Jobs\n",
    "driver.find_element(By.XPATH, \"/html/body/div[6]/header/div/nav/ul/li[3]\").click()"
   ]
  },
  {
   "cell_type": "code",
   "execution_count": 9,
   "metadata": {},
   "outputs": [],
   "source": [
    "# Search Job title\n",
    "driver.find_element(By.XPATH, \"/html/body/div[6]/header/div/div/div/div[2]/div[2]/div/div/input[1]\").click()\n",
    "time.sleep(1)"
   ]
  },
  {
   "cell_type": "code",
   "execution_count": 10,
   "metadata": {},
   "outputs": [],
   "source": [
    "# Enter job desc\n",
    "driver.find_element(By.XPATH, \"/html/body/div[6]/header/div/div/div/div[2]/div[2]/div/div/input[1]\").send_keys('Quantitative Researcher')\n",
    "time.sleep(1)\n",
    "\n",
    "# Enter job location\n",
    "driver.find_element(By.XPATH, \"/html/body/div[6]/header/div/div/div/div[2]/div[3]/div/div/input[1]\").send_keys('London')\n",
    "time.sleep(1)\n",
    "\n",
    "# Hit Enter\n",
    "driver.find_element(By.XPATH, \"/html/body/div[6]/header/div/div/div/div[2]/div[3]/div/div/input[1]\").send_keys(Keys.ENTER)\n",
    "driver.implicitly_wait(30)"
   ]
  },
  {
   "cell_type": "code",
   "execution_count": 11,
   "metadata": {},
   "outputs": [],
   "source": [
    "# soup = BeautifulSoup(driver.page_source)"
   ]
  },
  {
   "cell_type": "code",
   "execution_count": 12,
   "metadata": {},
   "outputs": [],
   "source": [
    "# app_outlet = soup.find('div', class_='application-outlet')"
   ]
  },
  {
   "cell_type": "code",
   "execution_count": 13,
   "metadata": {},
   "outputs": [],
   "source": [
    "# job_search_list = app_outlet.find('div', class_='jobs-search-results-list')"
   ]
  },
  {
   "cell_type": "code",
   "execution_count": 14,
   "metadata": {},
   "outputs": [],
   "source": [
    "# job_search_list"
   ]
  },
  {
   "cell_type": "code",
   "execution_count": 15,
   "metadata": {},
   "outputs": [],
   "source": [
    "# job_search_list.find_all('li', class_=\"ember-view jobs-search-results__job-card-search--generic-occludable-area jobs-search-results__list-item occludable-update p0 relative scaffold-layout__list-item\")[0]"
   ]
  },
  {
   "cell_type": "code",
   "execution_count": 22,
   "metadata": {},
   "outputs": [
    {
     "data": {
      "text/plain": [
       "[<selenium.webdriver.remote.webelement.WebElement (session=\"f888e420e8de96251cf89a39b7e04906\", element=\"8C85E41E2B1A710834549FED37F6539E_element_301\")>,\n",
       " <selenium.webdriver.remote.webelement.WebElement (session=\"f888e420e8de96251cf89a39b7e04906\", element=\"8C85E41E2B1A710834549FED37F6539E_element_302\")>,\n",
       " <selenium.webdriver.remote.webelement.WebElement (session=\"f888e420e8de96251cf89a39b7e04906\", element=\"8C85E41E2B1A710834549FED37F6539E_element_303\")>,\n",
       " <selenium.webdriver.remote.webelement.WebElement (session=\"f888e420e8de96251cf89a39b7e04906\", element=\"8C85E41E2B1A710834549FED37F6539E_element_304\")>,\n",
       " <selenium.webdriver.remote.webelement.WebElement (session=\"f888e420e8de96251cf89a39b7e04906\", element=\"8C85E41E2B1A710834549FED37F6539E_element_305\")>,\n",
       " <selenium.webdriver.remote.webelement.WebElement (session=\"f888e420e8de96251cf89a39b7e04906\", element=\"8C85E41E2B1A710834549FED37F6539E_element_306\")>,\n",
       " <selenium.webdriver.remote.webelement.WebElement (session=\"f888e420e8de96251cf89a39b7e04906\", element=\"8C85E41E2B1A710834549FED37F6539E_element_307\")>,\n",
       " <selenium.webdriver.remote.webelement.WebElement (session=\"f888e420e8de96251cf89a39b7e04906\", element=\"8C85E41E2B1A710834549FED37F6539E_element_308\")>,\n",
       " <selenium.webdriver.remote.webelement.WebElement (session=\"f888e420e8de96251cf89a39b7e04906\", element=\"8C85E41E2B1A710834549FED37F6539E_element_309\")>,\n",
       " <selenium.webdriver.remote.webelement.WebElement (session=\"f888e420e8de96251cf89a39b7e04906\", element=\"8C85E41E2B1A710834549FED37F6539E_element_286\")>,\n",
       " <selenium.webdriver.remote.webelement.WebElement (session=\"f888e420e8de96251cf89a39b7e04906\", element=\"8C85E41E2B1A710834549FED37F6539E_element_287\")>,\n",
       " <selenium.webdriver.remote.webelement.WebElement (session=\"f888e420e8de96251cf89a39b7e04906\", element=\"8C85E41E2B1A710834549FED37F6539E_element_289\")>,\n",
       " <selenium.webdriver.remote.webelement.WebElement (session=\"f888e420e8de96251cf89a39b7e04906\", element=\"8C85E41E2B1A710834549FED37F6539E_element_291\")>,\n",
       " <selenium.webdriver.remote.webelement.WebElement (session=\"f888e420e8de96251cf89a39b7e04906\", element=\"8C85E41E2B1A710834549FED37F6539E_element_293\")>,\n",
       " <selenium.webdriver.remote.webelement.WebElement (session=\"f888e420e8de96251cf89a39b7e04906\", element=\"8C85E41E2B1A710834549FED37F6539E_element_295\")>,\n",
       " <selenium.webdriver.remote.webelement.WebElement (session=\"f888e420e8de96251cf89a39b7e04906\", element=\"8C85E41E2B1A710834549FED37F6539E_element_297\")>,\n",
       " <selenium.webdriver.remote.webelement.WebElement (session=\"f888e420e8de96251cf89a39b7e04906\", element=\"8C85E41E2B1A710834549FED37F6539E_element_299\")>,\n",
       " <selenium.webdriver.remote.webelement.WebElement (session=\"f888e420e8de96251cf89a39b7e04906\", element=\"8C85E41E2B1A710834549FED37F6539E_element_310\")>,\n",
       " <selenium.webdriver.remote.webelement.WebElement (session=\"f888e420e8de96251cf89a39b7e04906\", element=\"8C85E41E2B1A710834549FED37F6539E_element_311\")>,\n",
       " <selenium.webdriver.remote.webelement.WebElement (session=\"f888e420e8de96251cf89a39b7e04906\", element=\"8C85E41E2B1A710834549FED37F6539E_element_312\")>,\n",
       " <selenium.webdriver.remote.webelement.WebElement (session=\"f888e420e8de96251cf89a39b7e04906\", element=\"8C85E41E2B1A710834549FED37F6539E_element_313\")>,\n",
       " <selenium.webdriver.remote.webelement.WebElement (session=\"f888e420e8de96251cf89a39b7e04906\", element=\"8C85E41E2B1A710834549FED37F6539E_element_314\")>,\n",
       " <selenium.webdriver.remote.webelement.WebElement (session=\"f888e420e8de96251cf89a39b7e04906\", element=\"8C85E41E2B1A710834549FED37F6539E_element_315\")>,\n",
       " <selenium.webdriver.remote.webelement.WebElement (session=\"f888e420e8de96251cf89a39b7e04906\", element=\"8C85E41E2B1A710834549FED37F6539E_element_316\")>,\n",
       " <selenium.webdriver.remote.webelement.WebElement (session=\"f888e420e8de96251cf89a39b7e04906\", element=\"8C85E41E2B1A710834549FED37F6539E_element_317\")>]"
      ]
     },
     "execution_count": 22,
     "metadata": {},
     "output_type": "execute_result"
    }
   ],
   "source": [
    "# Retrieve Jobs on page\n",
    "jobs_list = driver.find_elements(By.CSS_SELECTOR, \".jobs-search-results__list-item\")\n",
    "jobs_list"
   ]
  },
  {
   "cell_type": "code",
   "execution_count": 28,
   "metadata": {},
   "outputs": [
    {
     "name": "stdout",
     "output_type": "stream",
     "text": [
      "0 <selenium.webdriver.remote.webelement.WebElement (session=\"f888e420e8de96251cf89a39b7e04906\", element=\"8C85E41E2B1A710834549FED37F6539E_element_301\")> \n",
      "\n",
      "[<selenium.webdriver.remote.webelement.WebElement (session=\"f888e420e8de96251cf89a39b7e04906\", element=\"8C85E41E2B1A710834549FED37F6539E_element_393\")>] \n",
      "\n",
      "1 <selenium.webdriver.remote.webelement.WebElement (session=\"f888e420e8de96251cf89a39b7e04906\", element=\"8C85E41E2B1A710834549FED37F6539E_element_302\")> \n",
      "\n",
      "[<selenium.webdriver.remote.webelement.WebElement (session=\"f888e420e8de96251cf89a39b7e04906\", element=\"8C85E41E2B1A710834549FED37F6539E_element_396\")>] \n",
      "\n",
      "2 <selenium.webdriver.remote.webelement.WebElement (session=\"f888e420e8de96251cf89a39b7e04906\", element=\"8C85E41E2B1A710834549FED37F6539E_element_303\")> \n",
      "\n",
      "[<selenium.webdriver.remote.webelement.WebElement (session=\"f888e420e8de96251cf89a39b7e04906\", element=\"8C85E41E2B1A710834549FED37F6539E_element_398\")>] \n",
      "\n",
      "3 <selenium.webdriver.remote.webelement.WebElement (session=\"f888e420e8de96251cf89a39b7e04906\", element=\"8C85E41E2B1A710834549FED37F6539E_element_304\")> \n",
      "\n",
      "[<selenium.webdriver.remote.webelement.WebElement (session=\"f888e420e8de96251cf89a39b7e04906\", element=\"8C85E41E2B1A710834549FED37F6539E_element_403\")>] \n",
      "\n",
      "4 <selenium.webdriver.remote.webelement.WebElement (session=\"f888e420e8de96251cf89a39b7e04906\", element=\"8C85E41E2B1A710834549FED37F6539E_element_305\")> \n",
      "\n",
      "[<selenium.webdriver.remote.webelement.WebElement (session=\"f888e420e8de96251cf89a39b7e04906\", element=\"8C85E41E2B1A710834549FED37F6539E_element_405\")>] \n",
      "\n",
      "5 <selenium.webdriver.remote.webelement.WebElement (session=\"f888e420e8de96251cf89a39b7e04906\", element=\"8C85E41E2B1A710834549FED37F6539E_element_306\")> \n",
      "\n",
      "[<selenium.webdriver.remote.webelement.WebElement (session=\"f888e420e8de96251cf89a39b7e04906\", element=\"8C85E41E2B1A710834549FED37F6539E_element_407\")>] \n",
      "\n",
      "6 <selenium.webdriver.remote.webelement.WebElement (session=\"f888e420e8de96251cf89a39b7e04906\", element=\"8C85E41E2B1A710834549FED37F6539E_element_307\")> \n",
      "\n",
      "[<selenium.webdriver.remote.webelement.WebElement (session=\"f888e420e8de96251cf89a39b7e04906\", element=\"8C85E41E2B1A710834549FED37F6539E_element_408\")>] \n",
      "\n",
      "7 <selenium.webdriver.remote.webelement.WebElement (session=\"f888e420e8de96251cf89a39b7e04906\", element=\"8C85E41E2B1A710834549FED37F6539E_element_308\")> \n",
      "\n",
      "[<selenium.webdriver.remote.webelement.WebElement (session=\"f888e420e8de96251cf89a39b7e04906\", element=\"8C85E41E2B1A710834549FED37F6539E_element_410\")>] \n",
      "\n",
      "8 <selenium.webdriver.remote.webelement.WebElement (session=\"f888e420e8de96251cf89a39b7e04906\", element=\"8C85E41E2B1A710834549FED37F6539E_element_309\")> \n",
      "\n",
      "[<selenium.webdriver.remote.webelement.WebElement (session=\"f888e420e8de96251cf89a39b7e04906\", element=\"8C85E41E2B1A710834549FED37F6539E_element_411\")>] \n",
      "\n",
      "9 <selenium.webdriver.remote.webelement.WebElement (session=\"f888e420e8de96251cf89a39b7e04906\", element=\"8C85E41E2B1A710834549FED37F6539E_element_286\")> \n",
      "\n",
      "[<selenium.webdriver.remote.webelement.WebElement (session=\"f888e420e8de96251cf89a39b7e04906\", element=\"8C85E41E2B1A710834549FED37F6539E_element_413\")>] \n",
      "\n",
      "10 <selenium.webdriver.remote.webelement.WebElement (session=\"f888e420e8de96251cf89a39b7e04906\", element=\"8C85E41E2B1A710834549FED37F6539E_element_287\")> \n",
      "\n",
      "[<selenium.webdriver.remote.webelement.WebElement (session=\"f888e420e8de96251cf89a39b7e04906\", element=\"8C85E41E2B1A710834549FED37F6539E_element_416\")>] \n",
      "\n",
      "11 <selenium.webdriver.remote.webelement.WebElement (session=\"f888e420e8de96251cf89a39b7e04906\", element=\"8C85E41E2B1A710834549FED37F6539E_element_289\")> \n",
      "\n",
      "[<selenium.webdriver.remote.webelement.WebElement (session=\"f888e420e8de96251cf89a39b7e04906\", element=\"8C85E41E2B1A710834549FED37F6539E_element_419\")>] \n",
      "\n",
      "12 <selenium.webdriver.remote.webelement.WebElement (session=\"f888e420e8de96251cf89a39b7e04906\", element=\"8C85E41E2B1A710834549FED37F6539E_element_291\")> \n",
      "\n",
      "[<selenium.webdriver.remote.webelement.WebElement (session=\"f888e420e8de96251cf89a39b7e04906\", element=\"8C85E41E2B1A710834549FED37F6539E_element_420\")>] \n",
      "\n",
      "13 <selenium.webdriver.remote.webelement.WebElement (session=\"f888e420e8de96251cf89a39b7e04906\", element=\"8C85E41E2B1A710834549FED37F6539E_element_293\")> \n",
      "\n",
      "[<selenium.webdriver.remote.webelement.WebElement (session=\"f888e420e8de96251cf89a39b7e04906\", element=\"8C85E41E2B1A710834549FED37F6539E_element_421\")>] \n",
      "\n",
      "14 <selenium.webdriver.remote.webelement.WebElement (session=\"f888e420e8de96251cf89a39b7e04906\", element=\"8C85E41E2B1A710834549FED37F6539E_element_295\")> \n",
      "\n",
      "[<selenium.webdriver.remote.webelement.WebElement (session=\"f888e420e8de96251cf89a39b7e04906\", element=\"8C85E41E2B1A710834549FED37F6539E_element_424\")>] \n",
      "\n",
      "15 <selenium.webdriver.remote.webelement.WebElement (session=\"f888e420e8de96251cf89a39b7e04906\", element=\"8C85E41E2B1A710834549FED37F6539E_element_297\")> \n",
      "\n",
      "[<selenium.webdriver.remote.webelement.WebElement (session=\"f888e420e8de96251cf89a39b7e04906\", element=\"8C85E41E2B1A710834549FED37F6539E_element_427\")>] \n",
      "\n",
      "16 <selenium.webdriver.remote.webelement.WebElement (session=\"f888e420e8de96251cf89a39b7e04906\", element=\"8C85E41E2B1A710834549FED37F6539E_element_299\")> \n",
      "\n",
      "[<selenium.webdriver.remote.webelement.WebElement (session=\"f888e420e8de96251cf89a39b7e04906\", element=\"8C85E41E2B1A710834549FED37F6539E_element_428\")>] \n",
      "\n",
      "17 <selenium.webdriver.remote.webelement.WebElement (session=\"f888e420e8de96251cf89a39b7e04906\", element=\"8C85E41E2B1A710834549FED37F6539E_element_310\")> \n",
      "\n",
      "[<selenium.webdriver.remote.webelement.WebElement (session=\"f888e420e8de96251cf89a39b7e04906\", element=\"8C85E41E2B1A710834549FED37F6539E_element_430\")>] \n",
      "\n",
      "18 <selenium.webdriver.remote.webelement.WebElement (session=\"f888e420e8de96251cf89a39b7e04906\", element=\"8C85E41E2B1A710834549FED37F6539E_element_311\")> \n",
      "\n",
      "[<selenium.webdriver.remote.webelement.WebElement (session=\"f888e420e8de96251cf89a39b7e04906\", element=\"8C85E41E2B1A710834549FED37F6539E_element_432\")>] \n",
      "\n",
      "19 <selenium.webdriver.remote.webelement.WebElement (session=\"f888e420e8de96251cf89a39b7e04906\", element=\"8C85E41E2B1A710834549FED37F6539E_element_312\")> \n",
      "\n",
      "[<selenium.webdriver.remote.webelement.WebElement (session=\"f888e420e8de96251cf89a39b7e04906\", element=\"8C85E41E2B1A710834549FED37F6539E_element_435\")>] \n",
      "\n",
      "20 <selenium.webdriver.remote.webelement.WebElement (session=\"f888e420e8de96251cf89a39b7e04906\", element=\"8C85E41E2B1A710834549FED37F6539E_element_313\")> \n",
      "\n",
      "[<selenium.webdriver.remote.webelement.WebElement (session=\"f888e420e8de96251cf89a39b7e04906\", element=\"8C85E41E2B1A710834549FED37F6539E_element_437\")>] \n",
      "\n",
      "21 <selenium.webdriver.remote.webelement.WebElement (session=\"f888e420e8de96251cf89a39b7e04906\", element=\"8C85E41E2B1A710834549FED37F6539E_element_314\")> \n",
      "\n",
      "[<selenium.webdriver.remote.webelement.WebElement (session=\"f888e420e8de96251cf89a39b7e04906\", element=\"8C85E41E2B1A710834549FED37F6539E_element_440\")>] \n",
      "\n",
      "22 <selenium.webdriver.remote.webelement.WebElement (session=\"f888e420e8de96251cf89a39b7e04906\", element=\"8C85E41E2B1A710834549FED37F6539E_element_315\")> \n",
      "\n",
      "[<selenium.webdriver.remote.webelement.WebElement (session=\"f888e420e8de96251cf89a39b7e04906\", element=\"8C85E41E2B1A710834549FED37F6539E_element_442\")>] \n",
      "\n",
      "23 <selenium.webdriver.remote.webelement.WebElement (session=\"f888e420e8de96251cf89a39b7e04906\", element=\"8C85E41E2B1A710834549FED37F6539E_element_316\")> \n",
      "\n",
      "[<selenium.webdriver.remote.webelement.WebElement (session=\"f888e420e8de96251cf89a39b7e04906\", element=\"8C85E41E2B1A710834549FED37F6539E_element_444\")>] \n",
      "\n",
      "24 <selenium.webdriver.remote.webelement.WebElement (session=\"f888e420e8de96251cf89a39b7e04906\", element=\"8C85E41E2B1A710834549FED37F6539E_element_317\")> \n",
      "\n",
      "[<selenium.webdriver.remote.webelement.WebElement (session=\"f888e420e8de96251cf89a39b7e04906\", element=\"8C85E41E2B1A710834549FED37F6539E_element_447\")>] \n",
      "\n"
     ]
    },
    {
     "data": {
      "text/plain": [
       "'https://www.linkedin.com/jobs/view/3648835814/?eBP=CwEAAAGJVli653KD22gI1MhoTxjDVAvJBLIXBQnMc6sWU4_Y9toNVIcOuOj88LA2sHqYAJWjlbDWhR-heNMp-a_HzW8fd_gZQiKLC6CRSLrkDFXN20tWNLhoPMY8lV8aRqFl60KM54eOqdUmYDJJHlSEW8IUkgwdcOgWKmO68mynm8MR9UZD4PkeACss-hdHraW0xxBvT6bi4YaSb0vhrbZglmNaEbc8XH59vVy1CU1_OAZ7hj0nhFthpQARD5D9hhlA0aroZnNogs7G4EKuJkuoDR06iyFs4z053b7DO3k15jutKqOVtOBOAaxEvflG9C3F75MO3HW5F6iv4U8X7SlqXs8z9PHH9KuPUjYFVTY8PaTj7hKCHZB3wDk8Ev3cWA3UPTDDTYA&refId=54YxOP1VA9ssvtzhBuiROg%3D%3D&trackingId=dRzVpAhkoi9r4phbu9KdUQ%3D%3D&trk=flagship3_search_srp_jobs'"
      ]
     },
     "execution_count": 28,
     "metadata": {},
     "output_type": "execute_result"
    }
   ],
   "source": [
    "links=[]\n",
    "for i, job in enumerate(jobs_list):\n",
    "    \n",
    "    job.click()\n",
    "    time.sleep(1)\n",
    "    print(i, job, '\\n')\n",
    "    link_elements = job.find_elements(By.CSS_SELECTOR, \".job-card-container__link\")\n",
    "    print(link_elements, '\\n')\n",
    "    \n",
    "    for link in link_elements:\n",
    "        href = link.get_attribute('href')\n",
    "        if str(href).startswith(\"https://www.linkedin.com/jobs/view/\") and not link in links:\n",
    "            links.append(href)\n",
    "        else:\n",
    "            pass\n",
    "                        \n",
    "href\n",
    "        \n",
    "        \n",
    "    \n"
   ]
  },
  {
   "cell_type": "code",
   "execution_count": 31,
   "metadata": {},
   "outputs": [
    {
     "name": "stdout",
     "output_type": "stream",
     "text": [
      "https://www.linkedin.com/jobs/view/3651048095/?eBP=CwEAAAGJVli65hgllvWfQ7ij61k-hCZeDJNKjKXEClGQlckOi-81Id3UhC2LjmKcjg-jXvB-t-gH3j_geuwyp510BIIiIOx1sG9OY-J5qmsxX68rA3CYAum7PlkRP-g_jEakvmJjHJOU5G7GSgttzt14c_2ZLJOfWIY5nvMhardiH_kCb9WjT-fodzliUyUXT-mTRIvIVi8sJvyIURfMyF_nVf2fBtS8ulB2h0n0I0BDekj2VBrDhceYRTAdAIYAV6yRKaE85NMqAT0BgjZzX6oxXPND6GnjD8VAWjP3E20xQkQQB1y4nwWF4OiFXaNNVpHWBnbRKcQvwxGOOB3mdeI3OzeeDWJW-bqw2s_YRAgp23VtSjpjzOnq81T6WhrzyL8ipTfvEaHMB5SKKZd_XJ3FyZICbMaB59Y&refId=54YxOP1VA9ssvtzhBuiROg%3D%3D&trackingId=B7Hkdpwx512b3afv7K7NMw%3D%3D&trk=flagship3_search_srp_jobs\n",
      "https://www.linkedin.com/jobs/view/3640620957/?eBP=CwEAAAGJVli65v0E_1ThZ0mdiULsXO7vLQ-Ms9R3G7lVmCVlLu7luJoI2eg3bHeUKFEDFeXMW8kPehJBYpAh-7kAzjGsi-xmSUGXj0GktOlCyFm2X4-7VHrYWn-2PWOJzwhiGp-sd6Kgo-_TQhWqdxpZE5kYtuG5hrv_cLGC1gzGgFpdD5W8Yb_hN3nNJ54bwrqHRUXG6GuxOSJMcs3zlCjCVRrF356Zyvu1fjjc7sGBUU9SMOn-pSgsakYMYkaCh2rpq8AWyUUyIWEGXdWt2XG4wzPLS-BbY7y0qWwQRlL9V534prySY40JCQCEufLsNGd4-FwGFoQOXok7h1gio4kt6VXV4ywT&refId=54YxOP1VA9ssvtzhBuiROg%3D%3D&trackingId=Aq1F3slId9wg4PJiKE8o4A%3D%3D&trk=flagship3_search_srp_jobs\n",
      "https://www.linkedin.com/jobs/view/3642557444/?eBP=CwEAAAGJVli65nSKrUbVk-Ocf0tcCpbK9mV-GLM-mCU7peq5Nbxp5x4mkq3OYvsBAYYa1wqDaZ8Jbe2Smn81VKawC8UOaDhoO5KjxVFhTIF1L6wK300O_qLeModvQouVrK9Rm6maK_m1XbGoGcst4YJNtzzw8PvdehoHEBVr3SzrNmBi448GR8Zw9mzPQ8wixUqphMRMwPhCub0cGHv_LYlfOrqWMLfCVTZg5wykesQdoJ-7Fv_oCCLovRWPv7WYk0cweTlXDe3HkaaZ5UP3lxfnC2cZcKfyw5QsxCve9jlxbvMaVvVhph9dfGJz23IHzlKhpyi80qg2Iw06FQXj2wNLfEdDfGagQZth2fZy5hE92hG9xB5ncn-nuH7-KRcfrvXTKrGosmQ&refId=54YxOP1VA9ssvtzhBuiROg%3D%3D&trackingId=HAGgdMzn%2FcAYgnG4E%2Fs3sg%3D%3D&trk=flagship3_search_srp_jobs\n",
      "https://www.linkedin.com/jobs/view/3658320091/?eBP=CwEAAAGJVli65iJW_7EZgvc863EjurSqkFA_E2du7jZykYFkDWin4rUzGTdsCYaXcBJOPDdIrmhzyS8Khii8QrngYAXSxIs0qm0HR3Fah1qIVW6_sUFkLQYQeNSYx2Tj4ESLNZaUkitq9CHHHBWU5nlZRpW76j8BqfAzjEt5ELnAaq5IBlOBzP2F2sNaamEIsdsa3_NY9vM9t4bRQ5hh8yD5ujcRynVGXYioyZpI0lfpfBCpl-GFX8W87zwuPgaXD3e1uakXCNKC4GBwh99n1MatAUbySn7_vi8f_en1uB9hHcOdeh2lB8Hk0qQBnW6ksKnE6Y0zmdG5ffNvTqDqlWSNVs2M4QeLbPIUW9h3H0o1SYx7MRwtFPHK2qZNc28f132qdTv34PR7lWyH-INPYJBZDa0dRjt7WSA&refId=54YxOP1VA9ssvtzhBuiROg%3D%3D&trackingId=bSNt8caBRIhYmwzCkEbR6Q%3D%3D&trk=flagship3_search_srp_jobs\n",
      "https://www.linkedin.com/jobs/view/3660027971/?eBP=JOB_SEARCH_ORGANIC&refId=54YxOP1VA9ssvtzhBuiROg%3D%3D&trackingId=lcIBZjRvxJ%2BzHVZkhHFcGA%3D%3D&trk=flagship3_search_srp_jobs\n",
      "https://www.linkedin.com/jobs/view/3639841042/?eBP=CwEAAAGJVli65i8Eh7X2krZ4W4WsvpPrqp90x7CBykKaHq1GUUXYqJdmkysGvuuYd_2aJFe_C8R3xAePLQfR_v0atjTJNLZwc8ZMm1dj8HhWVTMg_XrqtJ6EwG1vcjg4yQ-BEzdg5i4cdHhnQ8528s7oJzI5JVCEwC3OQp8uylC7o2vd3rt4D2YiEUMRaH-SeoEstuJEMvEAPRZMIYf6ehWaquW9cnuww_I25nFl8_-Oy0XclorI1_DqWWCvl2Krg1_puvdKodbUBeHJ_dFx0CYzFCHxhqvnh4Bxo45_1FhStBuR411au0OBC7xgSNey-faOVAZdJCF1jszvC2E3OdgJlH8OMN1RdM_s2DEpT5NI8XlyYOKqciaPkgRXmmMHIIZgC90W&refId=54YxOP1VA9ssvtzhBuiROg%3D%3D&trackingId=cZMa1Av5cnoFIr8teyhfzg%3D%3D&trk=flagship3_search_srp_jobs\n",
      "https://www.linkedin.com/jobs/view/3546940866/?eBP=CwEAAAGJVli65pw9TfajpcAakS2wHbwm62y9x2IjwTN2A_AG1e0eyG2h80xUorii7-dSaYzYtJ5XTLzYNftMtF5ISG3e66ZcFZIbml1bC0w_wRsa-TWgm_RXfwLimB5HCYOHqDQaIE5kl0aiA2kll-tKl1GpjPjq_WS9shK2gBBFciuCl_fyfrLQ7jtm3GXUTln7nrjZRh3gv6_wDsDKxYIzf15eCv21g77eB5S5vcB1BCYIhLr-T8bZ5w02SW9SHGfOSJMfMMVmtgNy_SZfAGga3EEOmewgm4pqOMaDjY3YBliZ_r0o7RK4BmkU24rnKQbLP8rLIng43PZlSizXI5VvWTaq7GA6c3_fRvdCZ_JR_9BwuiB3B9PC9a-VShq6lVGUaNdq&refId=54YxOP1VA9ssvtzhBuiROg%3D%3D&trackingId=Gn8ZlTOJ1UFavKfL2%2BcBqQ%3D%3D&trk=flagship3_search_srp_jobs\n",
      "https://www.linkedin.com/jobs/view/3636096410/?eBP=CwEAAAGJVli65sO7BQTKxr4eRaBxKJzwX4PE-Vdrp6FL_-Qsq0o21y74RO1V8_4qvWO66TpbyxEFu1Q3311Q0ue42bneBfMiV5TUHSMS6zZjFCBXh8X-AE7dGhOWnNL_c0DYrKBvmKw-JuQII-bt_DaahHBT6SwMqgl8HpnhAeSIlhA74ebBK9wfqTDEQ_lEIiZvFnlajz8vGXhRuq-tcX_urY5vbwSwTXw0jG3unIzb-G02Y7ZgFnIQbPibpxnhVYP-r9BCcRLXF2BZwcbVWzQ3lGlZWq4_j-opWYmDbngwfEDRpErFGYS6PVqu-YWHktDIXjS49-4PbOiMuqQ2BLRcMTMyFJ2we-P0i9bZK4B6Mu-GlFX9AidIC_uU6LYxWDl426kWvxY&refId=54YxOP1VA9ssvtzhBuiROg%3D%3D&trackingId=LJKJySCn8DiQ3RRIwy0YkA%3D%3D&trk=flagship3_search_srp_jobs\n",
      "https://www.linkedin.com/jobs/view/3611716124/?eBP=CwEAAAGJVli65vvoRx8piGTQ3uo9ymmB4swj4VfM8FHRRQqE1oVICsp_UiOLaZJSMeqXb0lADSsWWgzqAcdTwwPEYQmx7AF9HeA4I0DelGJiZmMNbg5YClkhQsrbwEZPQLdVZbzmZXnYG9AKsJ9Um2kpZOqwZTvs6kXP_3ymgAELxHAGiSerQj3CPupXLIGlI5yeMp1sqSwbEL8DWEcRrLBX4boU2vTZ8CCh4dNDX4OxLCuZaA27XeuBgvdcvBkMkmb6GmuejApnXIRysP6AFDX3VKf5RC-qrTiby96ts8AzGQii0ZAOCGNjmhA_XwZpkAKSy_PerAy01TSPfMRNFdDTxIjWEvp6gTcEIJv17bDrgT5XuQBRmrJuEAF2RtdxK0oG1vZs100&refId=54YxOP1VA9ssvtzhBuiROg%3D%3D&trackingId=k2gD64tjjI0Ii99bTRM%2BBw%3D%3D&trk=flagship3_search_srp_jobs\n",
      "https://www.linkedin.com/jobs/view/3605728712/?eBP=CwEAAAGJVli65kfqYSQoWhhiudP482DPHBaLNxmVMGhUKBZAMdPgD2QVnnV7lw6rsGR346Ao6GX3_KblrKV3A5SJED5FIDraLzLRa3cfGDdxOwxnFI6ctj2YmY8Lc6Pl3b0nMCZGJEQWzBJtla0UqlqZxUi-iBifb5Wf0UY3uK0ChxlqykPV_eUsmgIOOzhoVrfkpZeRUXutIKpizGsBf1cvVTrlWwTEuAGW8lzGc7FsR9pYgND6Z1jgx2Ekm1ABs6_EHRcKAcLIftezOwL__muXNYGnLZiFebEECISXsv6iGwSHtA_0fRvjRzeupjd4LFIKjk8yBlM8OiMJKRPOuiH9BbfVeCpxl2BuAYmI3DC7vIg_qEyvaKwZtD8ENC7BVm03jOKDB5g&refId=54YxOP1VA9ssvtzhBuiROg%3D%3D&trackingId=EkMC4BJN1lbbH2feee858w%3D%3D&trk=flagship3_search_srp_jobs\n",
      "https://www.linkedin.com/jobs/view/3656909242/?eBP=JOB_SEARCH_ORGANIC&refId=54YxOP1VA9ssvtzhBuiROg%3D%3D&trackingId=QhStP0cqQ5r0lSxqXZBB6Q%3D%3D&trk=flagship3_search_srp_jobs\n",
      "https://www.linkedin.com/jobs/view/3651037364/?eBP=CwEAAAGJVli65n2dskpwsUGJKsV46xqxlo0QVJksSn1SwdTxJOZJTP56M9s0PW_h4i1AwMQ-rrO72z797tQKVwtuWvtbtwi1AxW1ooEri0bisbTSuqQvi6s539KAskU-ULxTiA5g3kAKuhFOvEEMh2yO6-ItPPoPp5IzPlJHL3JiVt3Y2w4GYi8faBalUNqiqUxF0cSH-qcQBiQNxl703moFGUdcruvViO_Q3xC9uZz9PfXkmlSLv2l-VBcmG8HFjJ8IaFoXGvYSSL0jARyfcp1MEld-qiY4TJhkF3S7de4-yc_Dx761BuFf-PH1uMwdnbwETHkoRo-Vj9zVTSKKYHU6c3XNmEJCcED49qLk1USCPm2o32wJPN489W2j2YOjWj1fW9V_&refId=54YxOP1VA9ssvtzhBuiROg%3D%3D&trackingId=nT3gyeuip2hBV%2BEP8rFybg%3D%3D&trk=flagship3_search_srp_jobs\n",
      "https://www.linkedin.com/jobs/view/3610502608/?eBP=CwEAAAGJVli65w_EnJsXo88XkN_MBib3fswhDLWdJycWEeozir7vKiipspybczaRXVTIW-9kHObOGjnxWL6SdHHL8LogP6gK2f4WHFjwwfWRgqQQemMEt-FfNJxOuNUoIMutfedfOtAK1LrjOLqtbmwlWdQGUF9GSJCxwL5yETHI2MICMmQQSqNEBCAmfpT9aA51DzMBpE4J_VKPdNb9EqCLWxKuKi605JYutiIhAo7b0qOvaxBxeXdEomHAhmiHTZVwqdaUJgzZDtNyt06ayTaG12zBzp8Oxrty0nsn-Ul493KT381YF6NqJgte3hxLUOQwsJqNXCiG6UYTSlXmpIj5raiITnDSwNrpeyY63kkqBzucymmmf2RQ_BuGUb1SVswl5mSCqzo&refId=54YxOP1VA9ssvtzhBuiROg%3D%3D&trackingId=ddgE53B0EZbBtA0C7AdyLg%3D%3D&trk=flagship3_search_srp_jobs\n",
      "https://www.linkedin.com/jobs/view/3635615346/?eBP=CwEAAAGJVli651oDgw3RWakw6Fcb1oa0T3rphvhBDtJDMdsmXjdTLbAngol9K5xhkDVSufxqJbltfcxVlNGJi8ffKwrIPfyvd5H2I8rAZatV5vwBAdrybQzqwXS4HkMxpoG-yEsCgiAgHL6Os4US-beOCKjNRh4K2nmCWB1kf3ZimDmknirk9KK2-EKYSahUWfSsmMA_cBhHBpUWKk3kZVkibEcUmHitXuoVvhR2QQJ_LxVVTIC87i1pHaO8_dRMbgIhG95ZbQP8ng_doSICeZ7MhJP6nulWSgmyhfmWWqRJYLJ1-dW0z6Q9ploe2ibwsPFaWnvvLcetZezvg857vCv2YL9CShq_gdHsV-T2HKkujeYieyc-v-B_qfpbx9wY22l0TtsS&refId=54YxOP1VA9ssvtzhBuiROg%3D%3D&trackingId=Er0P6sfmcxa4HGWcS7fXig%3D%3D&trk=flagship3_search_srp_jobs\n",
      "https://www.linkedin.com/jobs/view/3507999860/?eBP=CwEAAAGJVli65w1rdUW1H31yOewpqv8f6eNEFjzS5kHjbUm4DJmYU6DkO0TN0zZbof9o3xQf0nuCIeZ3zgfKkno0xZITR4sONxUKSw7PCh2HMHPjM2hjZIW0R4ibas6V2dn04sp1x6o_7FfEj7J9-EiRV_49DNmw3u5Pr_QfnpxYFf-kycBAsgstQLZe8XlEoRAFhiejUq_aGZmLF4AsQXcwnowmMJWvV0XEf3OCZL8CZm7XglRR4_YLGYpZd64bUUW-qY3B_PKThpv_T4ttE-xZQIO7Gj2ky63MePf9SPuS40Hf3ku-dBQQQjuIQwDE3zGBfKqsZQxWUbjrmHOqD8F3JkvcNNloXOpO3DjqJdw4uWzEKzvAIVCNqLYE5udLZdU9YVsDHt0&refId=54YxOP1VA9ssvtzhBuiROg%3D%3D&trackingId=NV7cXM6rxVEbSNrotlQHPQ%3D%3D&trk=flagship3_search_srp_jobs\n",
      "https://www.linkedin.com/jobs/view/3654920562/?eBP=CwEAAAGJVli65x4P6iuwWN_cbXI8AnNbwlXYNZbC9zV4735e-s5_49W9uZVGtSuDfUVn8iZT8qdGcrjXxmtgSHVRvqN10T3z7RyxUCkRueZ4ezdG1cC_kvGLr7HnyN6gmClwH7nQ-aLKkzG-9DcH0OZiicobqknHhZPYECPvGlKtCIjI8KeytpGdpzmyMckUzJ81MJal-sRbRZZlO1CJGIaKkaRzIe9XzHEWupmSRXVnfPUznxY9rBO4Udp1F5bgfvW2bkmXWkWzFDCW8nv68PoBiHd3nzovm5PG94Z6AD3ax1e2CvJXx1k8xgQC3s2eyDEzYDumK9-yAMdOP8TBamAWooa_fEptdfVNv7ErOt1TxKkBh5ctUtfnPjtGMfF-vv3wgNUwtrA&refId=54YxOP1VA9ssvtzhBuiROg%3D%3D&trackingId=OYoOoRZAUMbMm3Q7tX0enQ%3D%3D&trk=flagship3_search_srp_jobs\n",
      "https://www.linkedin.com/jobs/view/3649918395/?eBP=JOB_SEARCH_ORGANIC&refId=54YxOP1VA9ssvtzhBuiROg%3D%3D&trackingId=fnGiz2Ms7ADKRHtd09mMtg%3D%3D&trk=flagship3_search_srp_jobs\n",
      "https://www.linkedin.com/jobs/view/3647821058/?eBP=CwEAAAGJVli65wu8C3-GHBVCVcJPgovRYoqlOLAWhpFAxNJte_23VKdwJlMxNeS3RDnCg9LnAzk8dchtZfn_yFM_1J-WUfdEVbNJnY-VEwnY3CWMvuU5VaDBE7AQtFsf_SRqbwX_8e0tFHuIzzZVW2GiM2ODxFsr60pO0F5CDLmcoQC3SYVMTJ_ntdQ9SdgEZmWTrdP1lDP_sYMK7E3pKX9vGzeZD-T5aeYx1yN84p9CUsu5Wsn4vjW8Xiq-Z_c42DSJf9HQGdsGi9EY_IJIRa0ThoH49LFCX4vNYpc6i-XplyNZ88qYPrLxQMwoWVg-fzhCeo0ygLI3MlgLiuIwBTVQtiy6RreeljJ8149N-agUYUieLIWjEb7HZcIaVnSo9tlu6YBM&refId=54YxOP1VA9ssvtzhBuiROg%3D%3D&trackingId=7xLe6yOALlydDrM0hEeHRA%3D%3D&trk=flagship3_search_srp_jobs\n",
      "https://www.linkedin.com/jobs/view/3640004919/?eBP=CwEAAAGJVli659sGWcyUE53Zr97TlTanOuila1cXpc2cZelwMUdb52Viqw32fbDCjmMso7aetV-4cgQbDw69_vCoAf4ntlMAjDp0yxuxp51TmHikhPZIRRoeiKJSes739iY4rb38UsSXgqlckbNtpWdrbQnTuw6AF-l9oKrbziMQH4l_ZRok4fJGtu_kN1dpFvOhDobelIZwKWJ7LYbz3xr6AqmZZPSnPzY-g3HU95aan1W5DWExZVH4fgB3AMsLPuNne8ZcBPSFbuRfsJFLpLppsKHfdovtZNH6v25spoTqFz3PxrWjmZO998rdap7Tdp8r0c3uoSPByHzuvZAT6Ovx2C3wWCWs3YCjaTptNYN6q51_HhTpLmQZph7ohZ_NXC9naBPfKoI&refId=54YxOP1VA9ssvtzhBuiROg%3D%3D&trackingId=GlT8oBaAKoHwr%2BCIiZeMnA%3D%3D&trk=flagship3_search_srp_jobs\n",
      "https://www.linkedin.com/jobs/view/3554915262/?eBP=CwEAAAGJVli65zyqLhQ3y6zWOUw-pNbAl2GNHR7G1W6LIlZriDj0bdLlUAgfUFTyvshruiUKnxm3-3zf0Z9Qx9dd1D8jVqGt4HUJ_tl-LJGOW7fOmIT0_y_mn5BdT-mh-7t-AseD0y29Aa-2OCAhU3JsIgetqadHCVXIEE9VYzvjq44iWPjTCiftUjbiFI8ihv0gVvBAvOHO2HHLUK9B96aMiKqLfZxYeNd9-w0spCd1Rp1qjUTAb-J67VeHNZdW2mYoVXY46P2h-LuOo3N2YdMz1OXZqdLrY9zmAynTWciWyM5XdS_2Jf1p3b5EhXr3gWZmWXXh3PaMIwaejAZ-aOnp25cfKEnZj1mYOjlgUCpP_TTBdBgNlhhRVyqyZMcClbWYh74SvMc&refId=54YxOP1VA9ssvtzhBuiROg%3D%3D&trackingId=tpWCnyDBjqF31NF5GYNXUA%3D%3D&trk=flagship3_search_srp_jobs\n",
      "https://www.linkedin.com/jobs/view/3650980454/?eBP=CwEAAAGJVli657Bk_Q6LQt__PddxdmFbfXavWPA2UvZZAOV2US7mLlAAfIkOPS-8LQNMM50NiC3iKwitUQBF5PhpIDc5xxHYH8LbEY_TJHfiNhRv8zv2N28beBeIEGjYonm1Wjimff344jX6pyfhaipsf5WYGj5KeilGcd77rPcE-GGVRC49h4lZlru3D366EPiVKdsA32tKj819aQ0zTxYSLy7bUMe3QRBJ4JMgELnDjHCpPG2nAeKbTT-nUwUsqb6Y7oBHLHz-r_5qnJYWl2amixrglvuavc-w-5tupQYYeUl4-6gjuoQixOJ6HdQNLa5e3vuwO3s12pAgp2ZiNVwjINYPFVvl6kA7BeMEhJRDAlVCrMTdTU6CNmJ5bn2U2gTOfOsVGaY&refId=54YxOP1VA9ssvtzhBuiROg%3D%3D&trackingId=3VOvUEDjpv5%2BHV4k9yW8jQ%3D%3D&trk=flagship3_search_srp_jobs\n",
      "https://www.linkedin.com/jobs/view/3596095486/?eBP=CwEAAAGJVli657k_Mqz8_l8anmhncaf6-jFMUpXvOcwwwJcbNP-diu68oD8DJf6RQcQgjvjE4xtQs8878aZ7yWsJQh-4AlbFt3RXXHusKBEGbSAorbFB5cXV263sDOik_XXOV952tA5c1uAqFrselOfQMrlOIfds_6QuYwHRUCajXEU1V_0nRzkokU0ZizbtB9HTVjk_5O93vFT9R7LPLlM6EE6YsOP2ulNJSuvsq6YoktD3tH-3EGmnpDAgW7RVGTrqAV1jLpTkSn9XxPtd5SekGaRxc36K59LTGBHBiO1JY-e14YB8JHOku32mpWY-vbPVx8DsvytQWN-4bU5g9kH2w2cPhFWIziVQJWMv4Ujhby2Y32zSSDAb-sLekPTOWyCoqFGZR7I&refId=54YxOP1VA9ssvtzhBuiROg%3D%3D&trackingId=v7vKE1E3228sfQk1etj0pg%3D%3D&trk=flagship3_search_srp_jobs\n",
      "https://www.linkedin.com/jobs/view/3659242933/?eBP=JOB_SEARCH_ORGANIC&refId=54YxOP1VA9ssvtzhBuiROg%3D%3D&trackingId=J%2FxHVgeobPtA75iojJhwDw%3D%3D&trk=flagship3_search_srp_jobs\n",
      "https://www.linkedin.com/jobs/view/3656871259/?eBP=CwEAAAGJVli657r2IQ31XRqtTSFJCgfWoh3RjSD0sRsVcotxuKE1Kl71dO0WVt_0WUlUcUHFb6krWcsLZQos-ng28TTOb3Ez6YVTdbdTOix5_XRse2UHmG4nF03oAlm07Go8XmwVeYdWtFiVmJrxc4t6HeJxmRQxBaLW3Fns-ujA8HBWxsxuw14iQDxFIEH5lR47_8PXMw7AUou9Lwr38nYS7dVxOSgeYaVAI4pMlaGG_3gQ7vJ3GX0LmUcjHzDd60mGJRHKuHGPDgHiarzsmqeK0RU9rGAlsGWR8u7LM4fvHOysWahGuaFPknGDSGkZO7EMTHoBBCKnuXJy1s7WD6bJRJuIRH2g2oo7TQkEoBajt12d50XQX9T05CDw606CkiIILAfG&refId=54YxOP1VA9ssvtzhBuiROg%3D%3D&trackingId=Xv7oXCu8xaAaQKz0AToM1A%3D%3D&trk=flagship3_search_srp_jobs\n",
      "https://www.linkedin.com/jobs/view/3648835814/?eBP=CwEAAAGJVli653KD22gI1MhoTxjDVAvJBLIXBQnMc6sWU4_Y9toNVIcOuOj88LA2sHqYAJWjlbDWhR-heNMp-a_HzW8fd_gZQiKLC6CRSLrkDFXN20tWNLhoPMY8lV8aRqFl60KM54eOqdUmYDJJHlSEW8IUkgwdcOgWKmO68mynm8MR9UZD4PkeACss-hdHraW0xxBvT6bi4YaSb0vhrbZglmNaEbc8XH59vVy1CU1_OAZ7hj0nhFthpQARD5D9hhlA0aroZnNogs7G4EKuJkuoDR06iyFs4z053b7DO3k15jutKqOVtOBOAaxEvflG9C3F75MO3HW5F6iv4U8X7SlqXs8z9PHH9KuPUjYFVTY8PaTj7hKCHZB3wDk8Ev3cWA3UPTDDTYA&refId=54YxOP1VA9ssvtzhBuiROg%3D%3D&trackingId=dRzVpAhkoi9r4phbu9KdUQ%3D%3D&trk=flagship3_search_srp_jobs\n"
     ]
    }
   ],
   "source": [
    "for link in links:\n",
    "    print(link)"
   ]
  }
 ],
 "metadata": {
  "kernelspec": {
   "display_name": "job_desc_nlp",
   "language": "python",
   "name": "python3"
  },
  "language_info": {
   "codemirror_mode": {
    "name": "ipython",
    "version": 3
   },
   "file_extension": ".py",
   "mimetype": "text/x-python",
   "name": "python",
   "nbconvert_exporter": "python",
   "pygments_lexer": "ipython3",
   "version": "3.8.12"
  },
  "orig_nbformat": 4
 },
 "nbformat": 4,
 "nbformat_minor": 2
}
