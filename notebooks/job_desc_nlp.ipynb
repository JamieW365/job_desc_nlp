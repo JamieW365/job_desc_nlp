{
 "cells": [
  {
   "cell_type": "code",
   "execution_count": 1,
   "metadata": {},
   "outputs": [],
   "source": [
    "import os.path\n",
    "import time\n",
    "import pandas as pd\n",
    "from bs4 import BeautifulSoup\n",
    "\n",
    "from selenium import webdriver\n",
    "from selenium.webdriver.chrome.service import Service\n",
    "from selenium.webdriver.common.by import By\n",
    "from selenium.webdriver.support.ui import WebDriverWait\n",
    "from selenium.webdriver.support import expected_conditions as EC\n",
    "from selenium.webdriver.common.keys import Keys"
   ]
  },
  {
   "cell_type": "code",
   "execution_count": 2,
   "metadata": {},
   "outputs": [],
   "source": [
    "chrome_options = webdriver.ChromeOptions()\n",
    "# chrome_options.add_argument(\"--headless\") # Ensure GUI is off\n",
    "chrome_options.add_argument(\"--no-sandbox\")\n",
    "\n",
    "# Set path to chromedriver as per your configuration\n",
    "homedir = os.path.expanduser(\"~\")\n",
    "webdriver_service = Service(f\"{homedir}/chromedriver/stable/chromedriver\")\n",
    "\n",
    "# Choose Chrome Browser\n",
    "driver = webdriver.Chrome(service=webdriver_service, options=chrome_options)"
   ]
  },
  {
   "cell_type": "code",
   "execution_count": 3,
   "metadata": {},
   "outputs": [],
   "source": [
    "driver.maximize_window() \n",
    "# driver.minimize_window() \n",
    "# driver.maximize_window() \n",
    "# driver.switch_to.window(driver.current_window_handle)\n",
    "# driver.implicitly_wait(10)"
   ]
  },
  {
   "cell_type": "code",
   "execution_count": 4,
   "metadata": {},
   "outputs": [],
   "source": [
    "# Enter to the site\n",
    "driver.get(\"https://www.linkedin.com/login\");\n",
    "time.sleep(2)"
   ]
  },
  {
   "cell_type": "code",
   "execution_count": 5,
   "metadata": {},
   "outputs": [],
   "source": [
    "# Accept cookies\n",
    "driver.find_element(By.XPATH, \"/html/body/div/main/div[1]/div/section/div/div[2]/button[1]\").click()\n",
    "time.sleep(1)"
   ]
  },
  {
   "cell_type": "code",
   "execution_count": 6,
   "metadata": {},
   "outputs": [],
   "source": [
    "# Enter Username\n",
    "driver.find_element(By.XPATH, \"/html/body/div/main/div[2]/div[1]/form/div[1]/input\").send_keys('jamiewelch1011@gmail.com')\n",
    "\n",
    "# Enter Password\n",
    "driver.find_element(By.XPATH, \"/html/body/div/main/div[2]/div[1]/form/div[2]/input\").send_keys('Jamwels1994')\n",
    "time.sleep(1)"
   ]
  },
  {
   "cell_type": "code",
   "execution_count": 7,
   "metadata": {},
   "outputs": [],
   "source": [
    "# Login\n",
    "driver.find_element(By.XPATH, \"/html/body/div/main/div[2]/div[1]/form/div[3]/button\").click()\n",
    "driver.implicitly_wait(30)"
   ]
  },
  {
   "cell_type": "code",
   "execution_count": 8,
   "metadata": {},
   "outputs": [],
   "source": [
    "# Navigate to Jobs\n",
    "driver.find_element(By.XPATH, \"/html/body/div[6]/header/div/nav/ul/li[3]\").click()"
   ]
  },
  {
   "cell_type": "code",
   "execution_count": 9,
   "metadata": {},
   "outputs": [],
   "source": [
    "# Search Job title\n",
    "driver.find_element(By.XPATH, \"/html/body/div[6]/header/div/div/div/div[2]/div[2]/div/div/input[1]\").click()\n",
    "time.sleep(1)"
   ]
  },
  {
   "cell_type": "code",
   "execution_count": 10,
   "metadata": {},
   "outputs": [],
   "source": [
    "# Enter job desc\n",
    "driver.find_element(By.XPATH, \"/html/body/div[6]/header/div/div/div/div[2]/div[2]/div/div/input[1]\").send_keys('Quantitative Researcher')\n",
    "time.sleep(1)\n",
    "\n",
    "# Enter job location\n",
    "driver.find_element(By.XPATH, \"/html/body/div[6]/header/div/div/div/div[2]/div[3]/div/div/input[1]\").send_keys('London')\n",
    "time.sleep(1)\n",
    "\n",
    "# Hit Enter\n",
    "driver.find_element(By.XPATH, \"/html/body/div[6]/header/div/div/div/div[2]/div[3]/div/div/input[1]\").send_keys(Keys.ENTER)\n",
    "driver.implicitly_wait(30)"
   ]
  },
  {
   "cell_type": "code",
   "execution_count": 11,
   "metadata": {},
   "outputs": [],
   "source": [
    "# soup = BeautifulSoup(driver.page_source)"
   ]
  },
  {
   "cell_type": "code",
   "execution_count": 12,
   "metadata": {},
   "outputs": [],
   "source": [
    "# app_outlet = soup.find('div', class_='application-outlet')"
   ]
  },
  {
   "cell_type": "code",
   "execution_count": 13,
   "metadata": {},
   "outputs": [],
   "source": [
    "# job_search_list = app_outlet.find('div', class_='jobs-search-results-list')"
   ]
  },
  {
   "cell_type": "code",
   "execution_count": 14,
   "metadata": {},
   "outputs": [],
   "source": [
    "# job_search_list"
   ]
  },
  {
   "cell_type": "code",
   "execution_count": 15,
   "metadata": {},
   "outputs": [],
   "source": [
    "# job_search_list.find_all('li', class_=\"ember-view jobs-search-results__job-card-search--generic-occludable-area jobs-search-results__list-item occludable-update p0 relative scaffold-layout__list-item\")[0]"
   ]
  },
  {
   "cell_type": "code",
   "execution_count": 22,
   "metadata": {},
   "outputs": [
    {
     "data": {
      "text/plain": [
       "[<selenium.webdriver.remote.webelement.WebElement (session=\"f888e420e8de96251cf89a39b7e04906\", element=\"8C85E41E2B1A710834549FED37F6539E_element_301\")>,\n",
       " <selenium.webdriver.remote.webelement.WebElement (session=\"f888e420e8de96251cf89a39b7e04906\", element=\"8C85E41E2B1A710834549FED37F6539E_element_302\")>,\n",
       " <selenium.webdriver.remote.webelement.WebElement (session=\"f888e420e8de96251cf89a39b7e04906\", element=\"8C85E41E2B1A710834549FED37F6539E_element_303\")>,\n",
       " <selenium.webdriver.remote.webelement.WebElement (session=\"f888e420e8de96251cf89a39b7e04906\", element=\"8C85E41E2B1A710834549FED37F6539E_element_304\")>,\n",
       " <selenium.webdriver.remote.webelement.WebElement (session=\"f888e420e8de96251cf89a39b7e04906\", element=\"8C85E41E2B1A710834549FED37F6539E_element_305\")>,\n",
       " <selenium.webdriver.remote.webelement.WebElement (session=\"f888e420e8de96251cf89a39b7e04906\", element=\"8C85E41E2B1A710834549FED37F6539E_element_306\")>,\n",
       " <selenium.webdriver.remote.webelement.WebElement (session=\"f888e420e8de96251cf89a39b7e04906\", element=\"8C85E41E2B1A710834549FED37F6539E_element_307\")>,\n",
       " <selenium.webdriver.remote.webelement.WebElement (session=\"f888e420e8de96251cf89a39b7e04906\", element=\"8C85E41E2B1A710834549FED37F6539E_element_308\")>,\n",
       " <selenium.webdriver.remote.webelement.WebElement (session=\"f888e420e8de96251cf89a39b7e04906\", element=\"8C85E41E2B1A710834549FED37F6539E_element_309\")>,\n",
       " <selenium.webdriver.remote.webelement.WebElement (session=\"f888e420e8de96251cf89a39b7e04906\", element=\"8C85E41E2B1A710834549FED37F6539E_element_286\")>,\n",
       " <selenium.webdriver.remote.webelement.WebElement (session=\"f888e420e8de96251cf89a39b7e04906\", element=\"8C85E41E2B1A710834549FED37F6539E_element_287\")>,\n",
       " <selenium.webdriver.remote.webelement.WebElement (session=\"f888e420e8de96251cf89a39b7e04906\", element=\"8C85E41E2B1A710834549FED37F6539E_element_289\")>,\n",
       " <selenium.webdriver.remote.webelement.WebElement (session=\"f888e420e8de96251cf89a39b7e04906\", element=\"8C85E41E2B1A710834549FED37F6539E_element_291\")>,\n",
       " <selenium.webdriver.remote.webelement.WebElement (session=\"f888e420e8de96251cf89a39b7e04906\", element=\"8C85E41E2B1A710834549FED37F6539E_element_293\")>,\n",
       " <selenium.webdriver.remote.webelement.WebElement (session=\"f888e420e8de96251cf89a39b7e04906\", element=\"8C85E41E2B1A710834549FED37F6539E_element_295\")>,\n",
       " <selenium.webdriver.remote.webelement.WebElement (session=\"f888e420e8de96251cf89a39b7e04906\", element=\"8C85E41E2B1A710834549FED37F6539E_element_297\")>,\n",
       " <selenium.webdriver.remote.webelement.WebElement (session=\"f888e420e8de96251cf89a39b7e04906\", element=\"8C85E41E2B1A710834549FED37F6539E_element_299\")>,\n",
       " <selenium.webdriver.remote.webelement.WebElement (session=\"f888e420e8de96251cf89a39b7e04906\", element=\"8C85E41E2B1A710834549FED37F6539E_element_310\")>,\n",
       " <selenium.webdriver.remote.webelement.WebElement (session=\"f888e420e8de96251cf89a39b7e04906\", element=\"8C85E41E2B1A710834549FED37F6539E_element_311\")>,\n",
       " <selenium.webdriver.remote.webelement.WebElement (session=\"f888e420e8de96251cf89a39b7e04906\", element=\"8C85E41E2B1A710834549FED37F6539E_element_312\")>,\n",
       " <selenium.webdriver.remote.webelement.WebElement (session=\"f888e420e8de96251cf89a39b7e04906\", element=\"8C85E41E2B1A710834549FED37F6539E_element_313\")>,\n",
       " <selenium.webdriver.remote.webelement.WebElement (session=\"f888e420e8de96251cf89a39b7e04906\", element=\"8C85E41E2B1A710834549FED37F6539E_element_314\")>,\n",
       " <selenium.webdriver.remote.webelement.WebElement (session=\"f888e420e8de96251cf89a39b7e04906\", element=\"8C85E41E2B1A710834549FED37F6539E_element_315\")>,\n",
       " <selenium.webdriver.remote.webelement.WebElement (session=\"f888e420e8de96251cf89a39b7e04906\", element=\"8C85E41E2B1A710834549FED37F6539E_element_316\")>,\n",
       " <selenium.webdriver.remote.webelement.WebElement (session=\"f888e420e8de96251cf89a39b7e04906\", element=\"8C85E41E2B1A710834549FED37F6539E_element_317\")>]"
      ]
     },
     "execution_count": 22,
     "metadata": {},
     "output_type": "execute_result"
    }
   ],
   "source": [
    "# Retrieve Jobs on page\n",
    "jobs_list = driver.find_elements(By.CSS_SELECTOR, \".jobs-search-results__list-item\")\n",
    "jobs_list"
   ]
  },
  {
   "cell_type": "code",
   "execution_count": 28,
   "metadata": {},
   "outputs": [
    {
     "name": "stdout",
     "output_type": "stream",
     "text": [
      "0 <selenium.webdriver.remote.webelement.WebElement (session=\"f888e420e8de96251cf89a39b7e04906\", element=\"8C85E41E2B1A710834549FED37F6539E_element_301\")> \n",
      "\n",
      "[<selenium.webdriver.remote.webelement.WebElement (session=\"f888e420e8de96251cf89a39b7e04906\", element=\"8C85E41E2B1A710834549FED37F6539E_element_393\")>] \n",
      "\n",
      "1 <selenium.webdriver.remote.webelement.WebElement (session=\"f888e420e8de96251cf89a39b7e04906\", element=\"8C85E41E2B1A710834549FED37F6539E_element_302\")> \n",
      "\n",
      "[<selenium.webdriver.remote.webelement.WebElement (session=\"f888e420e8de96251cf89a39b7e04906\", element=\"8C85E41E2B1A710834549FED37F6539E_element_396\")>] \n",
      "\n",
      "2 <selenium.webdriver.remote.webelement.WebElement (session=\"f888e420e8de96251cf89a39b7e04906\", element=\"8C85E41E2B1A710834549FED37F6539E_element_303\")> \n",
      "\n",
      "[<selenium.webdriver.remote.webelement.WebElement (session=\"f888e420e8de96251cf89a39b7e04906\", element=\"8C85E41E2B1A710834549FED37F6539E_element_398\")>] \n",
      "\n",
      "3 <selenium.webdriver.remote.webelement.WebElement (session=\"f888e420e8de96251cf89a39b7e04906\", element=\"8C85E41E2B1A710834549FED37F6539E_element_304\")> \n",
      "\n",
      "[<selenium.webdriver.remote.webelement.WebElement (session=\"f888e420e8de96251cf89a39b7e04906\", element=\"8C85E41E2B1A710834549FED37F6539E_element_403\")>] \n",
      "\n",
      "4 <selenium.webdriver.remote.webelement.WebElement (session=\"f888e420e8de96251cf89a39b7e04906\", element=\"8C85E41E2B1A710834549FED37F6539E_element_305\")> \n",
      "\n",
      "[<selenium.webdriver.remote.webelement.WebElement (session=\"f888e420e8de96251cf89a39b7e04906\", element=\"8C85E41E2B1A710834549FED37F6539E_element_405\")>] \n",
      "\n",
      "5 <selenium.webdriver.remote.webelement.WebElement (session=\"f888e420e8de96251cf89a39b7e04906\", element=\"8C85E41E2B1A710834549FED37F6539E_element_306\")> \n",
      "\n",
      "[<selenium.webdriver.remote.webelement.WebElement (session=\"f888e420e8de96251cf89a39b7e04906\", element=\"8C85E41E2B1A710834549FED37F6539E_element_407\")>] \n",
      "\n",
      "6 <selenium.webdriver.remote.webelement.WebElement (session=\"f888e420e8de96251cf89a39b7e04906\", element=\"8C85E41E2B1A710834549FED37F6539E_element_307\")> \n",
      "\n",
      "[<selenium.webdriver.remote.webelement.WebElement (session=\"f888e420e8de96251cf89a39b7e04906\", element=\"8C85E41E2B1A710834549FED37F6539E_element_408\")>] \n",
      "\n",
      "7 <selenium.webdriver.remote.webelement.WebElement (session=\"f888e420e8de96251cf89a39b7e04906\", element=\"8C85E41E2B1A710834549FED37F6539E_element_308\")> \n",
      "\n",
      "[<selenium.webdriver.remote.webelement.WebElement (session=\"f888e420e8de96251cf89a39b7e04906\", element=\"8C85E41E2B1A710834549FED37F6539E_element_410\")>] \n",
      "\n",
      "8 <selenium.webdriver.remote.webelement.WebElement (session=\"f888e420e8de96251cf89a39b7e04906\", element=\"8C85E41E2B1A710834549FED37F6539E_element_309\")> \n",
      "\n",
      "[<selenium.webdriver.remote.webelement.WebElement (session=\"f888e420e8de96251cf89a39b7e04906\", element=\"8C85E41E2B1A710834549FED37F6539E_element_411\")>] \n",
      "\n",
      "9 <selenium.webdriver.remote.webelement.WebElement (session=\"f888e420e8de96251cf89a39b7e04906\", element=\"8C85E41E2B1A710834549FED37F6539E_element_286\")> \n",
      "\n",
      "[<selenium.webdriver.remote.webelement.WebElement (session=\"f888e420e8de96251cf89a39b7e04906\", element=\"8C85E41E2B1A710834549FED37F6539E_element_413\")>] \n",
      "\n",
      "10 <selenium.webdriver.remote.webelement.WebElement (session=\"f888e420e8de96251cf89a39b7e04906\", element=\"8C85E41E2B1A710834549FED37F6539E_element_287\")> \n",
      "\n",
      "[<selenium.webdriver.remote.webelement.WebElement (session=\"f888e420e8de96251cf89a39b7e04906\", element=\"8C85E41E2B1A710834549FED37F6539E_element_416\")>] \n",
      "\n",
      "11 <selenium.webdriver.remote.webelement.WebElement (session=\"f888e420e8de96251cf89a39b7e04906\", element=\"8C85E41E2B1A710834549FED37F6539E_element_289\")> \n",
      "\n",
      "[<selenium.webdriver.remote.webelement.WebElement (session=\"f888e420e8de96251cf89a39b7e04906\", element=\"8C85E41E2B1A710834549FED37F6539E_element_419\")>] \n",
      "\n",
      "12 <selenium.webdriver.remote.webelement.WebElement (session=\"f888e420e8de96251cf89a39b7e04906\", element=\"8C85E41E2B1A710834549FED37F6539E_element_291\")> \n",
      "\n",
      "[<selenium.webdriver.remote.webelement.WebElement (session=\"f888e420e8de96251cf89a39b7e04906\", element=\"8C85E41E2B1A710834549FED37F6539E_element_420\")>] \n",
      "\n",
      "13 <selenium.webdriver.remote.webelement.WebElement (session=\"f888e420e8de96251cf89a39b7e04906\", element=\"8C85E41E2B1A710834549FED37F6539E_element_293\")> \n",
      "\n",
      "[<selenium.webdriver.remote.webelement.WebElement (session=\"f888e420e8de96251cf89a39b7e04906\", element=\"8C85E41E2B1A710834549FED37F6539E_element_421\")>] \n",
      "\n",
      "14 <selenium.webdriver.remote.webelement.WebElement (session=\"f888e420e8de96251cf89a39b7e04906\", element=\"8C85E41E2B1A710834549FED37F6539E_element_295\")> \n",
      "\n",
      "[<selenium.webdriver.remote.webelement.WebElement (session=\"f888e420e8de96251cf89a39b7e04906\", element=\"8C85E41E2B1A710834549FED37F6539E_element_424\")>] \n",
      "\n",
      "15 <selenium.webdriver.remote.webelement.WebElement (session=\"f888e420e8de96251cf89a39b7e04906\", element=\"8C85E41E2B1A710834549FED37F6539E_element_297\")> \n",
      "\n",
      "[<selenium.webdriver.remote.webelement.WebElement (session=\"f888e420e8de96251cf89a39b7e04906\", element=\"8C85E41E2B1A710834549FED37F6539E_element_427\")>] \n",
      "\n",
      "16 <selenium.webdriver.remote.webelement.WebElement (session=\"f888e420e8de96251cf89a39b7e04906\", element=\"8C85E41E2B1A710834549FED37F6539E_element_299\")> \n",
      "\n",
      "[<selenium.webdriver.remote.webelement.WebElement (session=\"f888e420e8de96251cf89a39b7e04906\", element=\"8C85E41E2B1A710834549FED37F6539E_element_428\")>] \n",
      "\n",
      "17 <selenium.webdriver.remote.webelement.WebElement (session=\"f888e420e8de96251cf89a39b7e04906\", element=\"8C85E41E2B1A710834549FED37F6539E_element_310\")> \n",
      "\n",
      "[<selenium.webdriver.remote.webelement.WebElement (session=\"f888e420e8de96251cf89a39b7e04906\", element=\"8C85E41E2B1A710834549FED37F6539E_element_430\")>] \n",
      "\n",
      "18 <selenium.webdriver.remote.webelement.WebElement (session=\"f888e420e8de96251cf89a39b7e04906\", element=\"8C85E41E2B1A710834549FED37F6539E_element_311\")> \n",
      "\n",
      "[<selenium.webdriver.remote.webelement.WebElement (session=\"f888e420e8de96251cf89a39b7e04906\", element=\"8C85E41E2B1A710834549FED37F6539E_element_432\")>] \n",
      "\n",
      "19 <selenium.webdriver.remote.webelement.WebElement (session=\"f888e420e8de96251cf89a39b7e04906\", element=\"8C85E41E2B1A710834549FED37F6539E_element_312\")> \n",
      "\n",
      "[<selenium.webdriver.remote.webelement.WebElement (session=\"f888e420e8de96251cf89a39b7e04906\", element=\"8C85E41E2B1A710834549FED37F6539E_element_435\")>] \n",
      "\n",
      "20 <selenium.webdriver.remote.webelement.WebElement (session=\"f888e420e8de96251cf89a39b7e04906\", element=\"8C85E41E2B1A710834549FED37F6539E_element_313\")> \n",
      "\n",
      "[<selenium.webdriver.remote.webelement.WebElement (session=\"f888e420e8de96251cf89a39b7e04906\", element=\"8C85E41E2B1A710834549FED37F6539E_element_437\")>] \n",
      "\n",
      "21 <selenium.webdriver.remote.webelement.WebElement (session=\"f888e420e8de96251cf89a39b7e04906\", element=\"8C85E41E2B1A710834549FED37F6539E_element_314\")> \n",
      "\n",
      "[<selenium.webdriver.remote.webelement.WebElement (session=\"f888e420e8de96251cf89a39b7e04906\", element=\"8C85E41E2B1A710834549FED37F6539E_element_440\")>] \n",
      "\n",
      "22 <selenium.webdriver.remote.webelement.WebElement (session=\"f888e420e8de96251cf89a39b7e04906\", element=\"8C85E41E2B1A710834549FED37F6539E_element_315\")> \n",
      "\n",
      "[<selenium.webdriver.remote.webelement.WebElement (session=\"f888e420e8de96251cf89a39b7e04906\", element=\"8C85E41E2B1A710834549FED37F6539E_element_442\")>] \n",
      "\n",
      "23 <selenium.webdriver.remote.webelement.WebElement (session=\"f888e420e8de96251cf89a39b7e04906\", element=\"8C85E41E2B1A710834549FED37F6539E_element_316\")> \n",
      "\n",
      "[<selenium.webdriver.remote.webelement.WebElement (session=\"f888e420e8de96251cf89a39b7e04906\", element=\"8C85E41E2B1A710834549FED37F6539E_element_444\")>] \n",
      "\n",
      "24 <selenium.webdriver.remote.webelement.WebElement (session=\"f888e420e8de96251cf89a39b7e04906\", element=\"8C85E41E2B1A710834549FED37F6539E_element_317\")> \n",
      "\n",
      "[<selenium.webdriver.remote.webelement.WebElement (session=\"f888e420e8de96251cf89a39b7e04906\", element=\"8C85E41E2B1A710834549FED37F6539E_element_447\")>] \n",
      "\n"
     ]
    },
    {
     "data": {
      "text/plain": [
       "'https://www.linkedin.com/jobs/view/3648835814/?eBP=CwEAAAGJVli653KD22gI1MhoTxjDVAvJBLIXBQnMc6sWU4_Y9toNVIcOuOj88LA2sHqYAJWjlbDWhR-heNMp-a_HzW8fd_gZQiKLC6CRSLrkDFXN20tWNLhoPMY8lV8aRqFl60KM54eOqdUmYDJJHlSEW8IUkgwdcOgWKmO68mynm8MR9UZD4PkeACss-hdHraW0xxBvT6bi4YaSb0vhrbZglmNaEbc8XH59vVy1CU1_OAZ7hj0nhFthpQARD5D9hhlA0aroZnNogs7G4EKuJkuoDR06iyFs4z053b7DO3k15jutKqOVtOBOAaxEvflG9C3F75MO3HW5F6iv4U8X7SlqXs8z9PHH9KuPUjYFVTY8PaTj7hKCHZB3wDk8Ev3cWA3UPTDDTYA&refId=54YxOP1VA9ssvtzhBuiROg%3D%3D&trackingId=dRzVpAhkoi9r4phbu9KdUQ%3D%3D&trk=flagship3_search_srp_jobs'"
      ]
     },
     "execution_count": 28,
     "metadata": {},
     "output_type": "execute_result"
    }
   ],
   "source": [
    "links=[]\n",
    "for i, job in enumerate(jobs_list):\n",
    "    \n",
    "    job.click()\n",
    "    time.sleep(1)\n",
    "    print(i, job, '\\n')\n",
    "    link_elements = job.find_elements(By.CSS_SELECTOR, \".job-card-container__link\")\n",
    "    print(link_elements, '\\n')\n",
    "    \n",
    "    for link in link_elements:\n",
    "        href = link.get_attribute('href')\n",
    "        if str(href).startswith(\"https://www.linkedin.com/jobs/view/\") and not link in links:\n",
    "            links.append(href)\n",
    "        else:\n",
    "            pass\n",
    "        \n",
    "        \n",
    "    \n"
   ]
  },
  {
   "cell_type": "code",
   "execution_count": 32,
   "metadata": {},
   "outputs": [],
   "source": [
    "# Create empty lists to store information\n",
    "job_titles = []\n",
    "company_names = []\n",
    "company_locations = []\n",
    "work_methods = []\n",
    "post_dates = []\n",
    "work_times = [] \n",
    "job_desc = []"
   ]
  },
  {
   "cell_type": "code",
   "execution_count": 49,
   "metadata": {},
   "outputs": [
    {
     "name": "stdout",
     "output_type": "stream",
     "text": [
      "<selenium.webdriver.chrome.webdriver.WebDriver (session=\"f888e420e8de96251cf89a39b7e04906\")> <class 'selenium.webdriver.chrome.webdriver.WebDriver'>\n"
     ]
    }
   ],
   "source": [
    "for link in links[1:2]:\n",
    "    driver.get(link)\n",
    "    driver.implicitly_wait(30)\n",
    "    print(driver, type(driver))\n",
    "    driver.find_element(By.CLASS_NAME, \"jobs-description__footer-button\").click()\n",
    "    time.sleep(1)\n",
    "    \n",
    "    contents = driver.find_elements(By.CLASS_NAME, 'p5')\n",
    "    j=1\n",
    "    for content in contents:\n",
    "        try:\n",
    "            job_titles.append(content.find_element(By.TAG_NAME, \"h1\").text)\n",
    "            company_names.append(content.find_element(By.CLASS_NAME, \"jobs-unified-top-card__company-name\").text)\n",
    "            # company_locations.append(content.find_element_by_class_name(\"jobs-unified-top-card__bullet\").text)\n",
    "            # work_methods.append(content.find_element_by_class_name(\"jobs-unified-top-card__workplace-type\").text)\n",
    "            # post_dates.append(content.find_element_by_class_name(\"jobs-unified-top-card__posted-date\").text)\n",
    "            # work_times.append(content.find_element_by_class_name(\"jobs-unified-top-card__job-insight\").text)\n",
    "            print(f'Scraping the Job Offer {j} DONE.')\n",
    "            j += 1\n",
    "                \n",
    "        except:\n",
    "            pass\n",
    "        time.sleep(2)"
   ]
  },
  {
   "cell_type": "code",
   "execution_count": 50,
   "metadata": {},
   "outputs": [
    {
     "data": {
      "text/plain": [
       "(['Crypto Quantitative Researcher/PM'], [])"
      ]
     },
     "execution_count": 50,
     "metadata": {},
     "output_type": "execute_result"
    }
   ],
   "source": [
    "job_titles, company_names"
   ]
  }
 ],
 "metadata": {
  "kernelspec": {
   "display_name": "job_desc_nlp",
   "language": "python",
   "name": "python3"
  },
  "language_info": {
   "codemirror_mode": {
    "name": "ipython",
    "version": 3
   },
   "file_extension": ".py",
   "mimetype": "text/x-python",
   "name": "python",
   "nbconvert_exporter": "python",
   "pygments_lexer": "ipython3",
   "version": "3.8.12"
  },
  "orig_nbformat": 4
 },
 "nbformat": 4,
 "nbformat_minor": 2
}
