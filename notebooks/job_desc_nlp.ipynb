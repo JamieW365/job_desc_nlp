{
 "cells": [
  {
   "cell_type": "code",
   "execution_count": 11,
   "metadata": {},
   "outputs": [],
   "source": [
    "import os.path\n",
    "import time\n",
    "import pandas as pd\n",
    "\n",
    "from selenium import webdriver\n",
    "from selenium.webdriver.chrome.service import Service\n",
    "from selenium.webdriver.common.by import By\n",
    "from selenium.webdriver.support.ui import WebDriverWait\n",
    "from selenium.webdriver.support import expected_conditions as EC\n",
    "from selenium.webdriver.common.keys import Keys"
   ]
  },
  {
   "cell_type": "code",
   "execution_count": 12,
   "metadata": {},
   "outputs": [],
   "source": [
    "chrome_options = webdriver.ChromeOptions()\n",
    "# chrome_options.add_argument(\"--headless\") # Ensure GUI is off\n",
    "chrome_options.add_argument(\"--no-sandbox\")\n",
    "\n",
    "# Set path to chromedriver as per your configuration\n",
    "homedir = os.path.expanduser(\"~\")\n",
    "webdriver_service = Service(f\"{homedir}/chromedriver/stable/chromedriver\")\n",
    "\n",
    "# Choose Chrome Browser\n",
    "driver = webdriver.Chrome(service=webdriver_service, options=chrome_options)"
   ]
  },
  {
   "cell_type": "code",
   "execution_count": 13,
   "metadata": {},
   "outputs": [],
   "source": [
    "# driver.maximize_window() \n",
    "# driver.minimize_window() \n",
    "# driver.maximize_window() \n",
    "# driver.switch_to.window(driver.current_window_handle)\n",
    "# driver.implicitly_wait(10)"
   ]
  },
  {
   "cell_type": "code",
   "execution_count": 14,
   "metadata": {},
   "outputs": [],
   "source": [
    "# Enter to the site\n",
    "driver.get(\"https://www.linkedin.com/login\");\n",
    "time.sleep(2)"
   ]
  },
  {
   "cell_type": "code",
   "execution_count": 15,
   "metadata": {},
   "outputs": [],
   "source": [
    "# Accept cookies\n",
    "driver.find_element(By.XPATH, \"/html/body/div/main/div[1]/div/section/div/div[2]/button[1]\").click()\n",
    "time.sleep(1)"
   ]
  },
  {
   "cell_type": "code",
   "execution_count": 16,
   "metadata": {},
   "outputs": [],
   "source": [
    "# Enter Username\n",
    "driver.find_element(By.XPATH, \"/html/body/div/main/div[2]/div[1]/form/div[1]/input\").send_keys('jamiewelch1011@gmail.com')\n",
    "\n",
    "# Enter Password\n",
    "driver.find_element(By.XPATH, \"/html/body/div/main/div[2]/div[1]/form/div[2]/input\").send_keys('Jamwels1994')\n",
    "time.sleep(1)"
   ]
  },
  {
   "cell_type": "code",
   "execution_count": 17,
   "metadata": {},
   "outputs": [],
   "source": [
    "# Login\n",
    "driver.find_element(By.XPATH, \"/html/body/div/main/div[2]/div[1]/form/div[3]/button\").click()\n",
    "driver.implicitly_wait(30)"
   ]
  },
  {
   "cell_type": "code",
   "execution_count": 18,
   "metadata": {},
   "outputs": [],
   "source": [
    "# Navigate to Jobs\n",
    "driver.find_element(By.XPATH, \"/html/body/div[6]/header/div/nav/ul/li[3]\").click()"
   ]
  },
  {
   "cell_type": "code",
   "execution_count": 19,
   "metadata": {},
   "outputs": [],
   "source": [
    "# Search Job title\n",
    "driver.find_element(By.XPATH, \"/html/body/div[6]/header/div/div/div/div[2]/div[2]/div/div/input[1]\").click()\n",
    "time.sleep(1)"
   ]
  },
  {
   "cell_type": "code",
   "execution_count": 20,
   "metadata": {},
   "outputs": [],
   "source": [
    "# Enter job desc\n",
    "driver.find_element(By.XPATH, \"/html/body/div[6]/header/div/div/div/div[2]/div[2]/div/div/input[1]\").send_keys('Quantitative Researcher')\n",
    "time.sleep(1)\n",
    "\n",
    "# Enter job location\n",
    "driver.find_element(By.XPATH, \"/html/body/div[6]/header/div/div/div/div[2]/div[3]/div/div/input[1]\").send_keys('London')\n",
    "time.sleep(1)\n",
    "\n",
    "# Hit Enter\n",
    "driver.find_element(By.XPATH, \"/html/body/div[6]/header/div/div/div/div[2]/div[3]/div/div/input[1]\").send_keys(Keys.ENTER)\n",
    "driver.implicitly_wait(30)"
   ]
  },
  {
   "cell_type": "code",
   "execution_count": null,
   "metadata": {},
   "outputs": [],
   "source": []
  }
 ],
 "metadata": {
  "kernelspec": {
   "display_name": "job_desc_nlp",
   "language": "python",
   "name": "python3"
  },
  "language_info": {
   "codemirror_mode": {
    "name": "ipython",
    "version": 3
   },
   "file_extension": ".py",
   "mimetype": "text/x-python",
   "name": "python",
   "nbconvert_exporter": "python",
   "pygments_lexer": "ipython3",
   "version": "3.8.12"
  },
  "orig_nbformat": 4
 },
 "nbformat": 4,
 "nbformat_minor": 2
}
